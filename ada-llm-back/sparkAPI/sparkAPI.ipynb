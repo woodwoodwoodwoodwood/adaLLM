{
 "cells": [
  {
   "cell_type": "code",
   "execution_count": 2,
   "metadata": {},
   "outputs": [
    {
     "name": "stdout",
     "output_type": "stream",
     "text": [
      "generations=[[ChatGeneration(text='**二叉树的每个节点最多可以有两个子节点，即一个左子节点和一个右子节点**。\\n\\n在数据结构中，二叉树是一种非常重要的树形结构，它的每个节点最多包含两个子节点。这一特性使得二叉树在计算机科学中有着广泛的应用，例如在排序、搜索和数据压缩等领域。', message=AIMessage(content='**二叉树的每个节点最多可以有两个子节点，即一个左子节点和一个右子节点**。\\n\\n在数据结构中，二叉树是一种非常重要的树形结构，它的每个节点最多包含两个子节点。这一特性使得二叉树在计算机科学中有着广泛的应用，例如在排序、搜索和数据压缩等领域。'))]] llm_output={'token_usage': {'question_tokens': 8, 'prompt_tokens': 8, 'completion_tokens': 72, 'total_tokens': 80}} run=[RunInfo(run_id=UUID('d6f0e45a-34bc-494e-84ba-2b716b07c09d'))]\n"
     ]
    }
   ],
   "source": [
    "from sparkai.llm.llm import ChatSparkLLM, ChunkPrintHandler\n",
    "from sparkai.core.messages import ChatMessage\n",
    "\n",
    "#星火认知大模型Spark Max的URL值，其他版本大模型URL值请前往文档（https://www.xfyun.cn/doc/spark/Web.html）查看\n",
    "SPARKAI_URL = 'wss://spark-api.xf-yun.com/v4.0/chat'\n",
    "#星火认知大模型调用秘钥信息，请前往讯飞开放平台控制台（https://console.xfyun.cn/services/bm35）查看\n",
    "SPARKAI_APP_ID = '2087ff0e'\n",
    "SPARKAI_API_SECRET = 'ZDg4Mjg2NDlhNWUwNzA5ZjM5M2YxOTI5'\n",
    "SPARKAI_API_KEY = '562ea31be2df40e0b808ad7d03145cfe'\n",
    "#星火认知大模型Spark Max的domain值，其他版本大模型domain值请前往文档（https://www.xfyun.cn/doc/spark/Web.html）查看\n",
    "SPARKAI_DOMAIN = '4.0Ultra'\n",
    "\n",
    "if __name__ == '__main__':\n",
    "    spark = ChatSparkLLM(\n",
    "        spark_api_url=SPARKAI_URL,\n",
    "        spark_app_id=SPARKAI_APP_ID,\n",
    "        spark_api_key=SPARKAI_API_KEY,\n",
    "        spark_api_secret=SPARKAI_API_SECRET,\n",
    "        spark_llm_domain=SPARKAI_DOMAIN,\n",
    "        streaming=False,\n",
    "    )\n",
    "    messages = [ChatMessage(\n",
    "        role=\"user\",\n",
    "        content='二叉树每个节点最多有几个孩子'\n",
    "    )]\n",
    "    handler = ChunkPrintHandler()\n",
    "    a = spark.generate([messages], callbacks=[handler])\n",
    "    print(a)"
   ]
  }
 ],
 "metadata": {
  "kernelspec": {
   "display_name": "adaLLM",
   "language": "python",
   "name": "python3"
  },
  "language_info": {
   "codemirror_mode": {
    "name": "ipython",
    "version": 3
   },
   "file_extension": ".py",
   "mimetype": "text/x-python",
   "name": "python",
   "nbconvert_exporter": "python",
   "pygments_lexer": "ipython3",
   "version": "3.10.14"
  }
 },
 "nbformat": 4,
 "nbformat_minor": 2
}
